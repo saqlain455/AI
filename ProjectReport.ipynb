{
  "nbformat": 4,
  "nbformat_minor": 0,
  "metadata": {
    "colab": {
      "name": "ProjectReport.ipynb",
      "provenance": [],
      "toc_visible": true
    },
    "kernelspec": {
      "name": "python3",
      "display_name": "Python 3"
    }
  },
  "cells": [
    {
      "cell_type": "markdown",
      "metadata": {
        "id": "sOFVUhCIP5jk"
      },
      "source": [
        "**Project Report**:We have research the libraries that is used for over project and we used MUltinomialNB or Neural Network for this classifcation type of data. we find the dataset from kaggle that is part of data gathering.We also do preprocessing  and clean on dataset. We also map feature result to numerical form."
      ]
    },
    {
      "cell_type": "markdown",
      "metadata": {
        "id": "-2PMRxho25Lh"
      },
      "source": [
        "**import librarires**"
      ]
    },
    {
      "cell_type": "code",
      "metadata": {
        "colab": {
          "base_uri": "https://localhost:8080/"
        },
        "id": "xWy1yjgo857G",
        "outputId": "d5a726ac-19e3-4393-825b-d7ab4b81bc22"
      },
      "source": [
        "!pip install unidecode"
      ],
      "execution_count": 37,
      "outputs": [
        {
          "output_type": "stream",
          "text": [
            "Requirement already satisfied: unidecode in /usr/local/lib/python3.6/dist-packages (1.1.1)\n"
          ],
          "name": "stdout"
        }
      ]
    },
    {
      "cell_type": "code",
      "metadata": {
        "id": "xw5zF2yx24r5"
      },
      "source": [
        "import numpy as np\n",
        "import pandas as pd\n",
        "from sklearn.model_selection import train_test_split\n",
        "from sklearn.feature_extraction.text import CountVectorizer\n",
        "from sklearn.naive_bayes import MultinomialNB\n",
        "from sklearn import metrics\n",
        "import re\n",
        "from sklearn.feature_extraction.text import TfidfTransformer\n",
        "\n",
        "from unidecode import unidecode\n"
      ],
      "execution_count": 38,
      "outputs": []
    },
    {
      "cell_type": "markdown",
      "metadata": {
        "id": "glld7YS34zOY"
      },
      "source": [
        "**Cleaning function**"
      ]
    },
    {
      "cell_type": "code",
      "metadata": {
        "id": "3vPx_Wsf4uDl"
      },
      "source": [
        "def clean_text(x):\n",
        "  x_ascii =unidecode(x)\n",
        "  x_clean=special_character_removal.sub(' ',x_ascii)\n",
        "  return x_clean "
      ],
      "execution_count": 54,
      "outputs": []
    },
    {
      "cell_type": "markdown",
      "metadata": {
        "id": "rgJHAmKI6KRs"
      },
      "source": [
        "**Loading training data**"
      ]
    },
    {
      "cell_type": "code",
      "metadata": {
        "colab": {
          "base_uri": "https://localhost:8080/",
          "height": 359
        },
        "id": "OT8VXPKL6SDT",
        "outputId": "7ae9f401-b24f-4295-f5e3-327aea3af5cc"
      },
      "source": [
        "train_df=pd.read_csv('/content/text_emotion.csv')\n",
        "train_df.head(10)"
      ],
      "execution_count": 41,
      "outputs": [
        {
          "output_type": "execute_result",
          "data": {
            "text/html": [
              "<div>\n",
              "<style scoped>\n",
              "    .dataframe tbody tr th:only-of-type {\n",
              "        vertical-align: middle;\n",
              "    }\n",
              "\n",
              "    .dataframe tbody tr th {\n",
              "        vertical-align: top;\n",
              "    }\n",
              "\n",
              "    .dataframe thead th {\n",
              "        text-align: right;\n",
              "    }\n",
              "</style>\n",
              "<table border=\"1\" class=\"dataframe\">\n",
              "  <thead>\n",
              "    <tr style=\"text-align: right;\">\n",
              "      <th></th>\n",
              "      <th>id</th>\n",
              "      <th>sentiment</th>\n",
              "      <th>author</th>\n",
              "      <th>content</th>\n",
              "    </tr>\n",
              "  </thead>\n",
              "  <tbody>\n",
              "    <tr>\n",
              "      <th>0</th>\n",
              "      <td>1956967341</td>\n",
              "      <td>empty</td>\n",
              "      <td>xoshayzers</td>\n",
              "      <td>@tiffanylue i know  i was listenin to bad habi...</td>\n",
              "    </tr>\n",
              "    <tr>\n",
              "      <th>1</th>\n",
              "      <td>1956967666</td>\n",
              "      <td>sadness</td>\n",
              "      <td>wannamama</td>\n",
              "      <td>Layin n bed with a headache  ughhhh...waitin o...</td>\n",
              "    </tr>\n",
              "    <tr>\n",
              "      <th>2</th>\n",
              "      <td>1956967696</td>\n",
              "      <td>sadness</td>\n",
              "      <td>coolfunky</td>\n",
              "      <td>Funeral ceremony...gloomy friday...</td>\n",
              "    </tr>\n",
              "    <tr>\n",
              "      <th>3</th>\n",
              "      <td>1956967789</td>\n",
              "      <td>enthusiasm</td>\n",
              "      <td>czareaquino</td>\n",
              "      <td>wants to hang out with friends SOON!</td>\n",
              "    </tr>\n",
              "    <tr>\n",
              "      <th>4</th>\n",
              "      <td>1956968416</td>\n",
              "      <td>neutral</td>\n",
              "      <td>xkilljoyx</td>\n",
              "      <td>@dannycastillo We want to trade with someone w...</td>\n",
              "    </tr>\n",
              "    <tr>\n",
              "      <th>5</th>\n",
              "      <td>1956968477</td>\n",
              "      <td>worry</td>\n",
              "      <td>xxxPEACHESxxx</td>\n",
              "      <td>Re-pinging @ghostridah14: why didn't you go to...</td>\n",
              "    </tr>\n",
              "    <tr>\n",
              "      <th>6</th>\n",
              "      <td>1956968487</td>\n",
              "      <td>sadness</td>\n",
              "      <td>ShansBee</td>\n",
              "      <td>I should be sleep, but im not! thinking about ...</td>\n",
              "    </tr>\n",
              "    <tr>\n",
              "      <th>7</th>\n",
              "      <td>1956968636</td>\n",
              "      <td>worry</td>\n",
              "      <td>mcsleazy</td>\n",
              "      <td>Hmmm. http://www.djhero.com/ is down</td>\n",
              "    </tr>\n",
              "    <tr>\n",
              "      <th>8</th>\n",
              "      <td>1956969035</td>\n",
              "      <td>sadness</td>\n",
              "      <td>nic0lepaula</td>\n",
              "      <td>@charviray Charlene my love. I miss you</td>\n",
              "    </tr>\n",
              "    <tr>\n",
              "      <th>9</th>\n",
              "      <td>1956969172</td>\n",
              "      <td>sadness</td>\n",
              "      <td>Ingenue_Em</td>\n",
              "      <td>@kelcouch I'm sorry  at least it's Friday?</td>\n",
              "    </tr>\n",
              "  </tbody>\n",
              "</table>\n",
              "</div>"
            ],
            "text/plain": [
              "           id  ...                                            content\n",
              "0  1956967341  ...  @tiffanylue i know  i was listenin to bad habi...\n",
              "1  1956967666  ...  Layin n bed with a headache  ughhhh...waitin o...\n",
              "2  1956967696  ...                Funeral ceremony...gloomy friday...\n",
              "3  1956967789  ...               wants to hang out with friends SOON!\n",
              "4  1956968416  ...  @dannycastillo We want to trade with someone w...\n",
              "5  1956968477  ...  Re-pinging @ghostridah14: why didn't you go to...\n",
              "6  1956968487  ...  I should be sleep, but im not! thinking about ...\n",
              "7  1956968636  ...               Hmmm. http://www.djhero.com/ is down\n",
              "8  1956969035  ...            @charviray Charlene my love. I miss you\n",
              "9  1956969172  ...         @kelcouch I'm sorry  at least it's Friday?\n",
              "\n",
              "[10 rows x 4 columns]"
            ]
          },
          "metadata": {
            "tags": []
          },
          "execution_count": 41
        }
      ]
    },
    {
      "cell_type": "markdown",
      "metadata": {
        "id": "aRqm7CmtAuNk"
      },
      "source": [
        "**preprocessing and cleaning**"
      ]
    },
    {
      "cell_type": "code",
      "metadata": {
        "id": "-tFcmadpA-V3",
        "colab": {
          "base_uri": "https://localhost:8080/",
          "height": 359
        },
        "outputId": "05cd5ac2-ef0d-4b94-9f61-804d8d88f087"
      },
      "source": [
        "data= train_df.loc[:,['content','sentiment']]\n",
        "special_character_removal=re.compile(r'[^a-zA-Z\\.\\-\\?\\!\\,\\#\\...\\%]',re.IGNORECASE)\n",
        "data['clean_text']= data['content'].apply(lambda x:clean_text(str(x)))\n",
        "data['clean_text']=data['clean_text'].fillna('something')\n",
        "data['sentiment']=data['sentiment'].map({'empty':0,'neutral':1,'worry':2,'sadness':3,'love':4,'fun':5,'surprise':6,'relief':7,'hate':8,'happiness':9,'boredom':10,'enthusiasm':11})\n",
        "data.head(10)\n",
        "\n",
        "\n"
      ],
      "execution_count": 71,
      "outputs": [
        {
          "output_type": "execute_result",
          "data": {
            "text/html": [
              "<div>\n",
              "<style scoped>\n",
              "    .dataframe tbody tr th:only-of-type {\n",
              "        vertical-align: middle;\n",
              "    }\n",
              "\n",
              "    .dataframe tbody tr th {\n",
              "        vertical-align: top;\n",
              "    }\n",
              "\n",
              "    .dataframe thead th {\n",
              "        text-align: right;\n",
              "    }\n",
              "</style>\n",
              "<table border=\"1\" class=\"dataframe\">\n",
              "  <thead>\n",
              "    <tr style=\"text-align: right;\">\n",
              "      <th></th>\n",
              "      <th>content</th>\n",
              "      <th>sentiment</th>\n",
              "      <th>clean_text</th>\n",
              "    </tr>\n",
              "  </thead>\n",
              "  <tbody>\n",
              "    <tr>\n",
              "      <th>0</th>\n",
              "      <td>@tiffanylue i know  i was listenin to bad habi...</td>\n",
              "      <td>0.0</td>\n",
              "      <td>tiffanylue i know  i was listenin to bad habi...</td>\n",
              "    </tr>\n",
              "    <tr>\n",
              "      <th>1</th>\n",
              "      <td>Layin n bed with a headache  ughhhh...waitin o...</td>\n",
              "      <td>3.0</td>\n",
              "      <td>Layin n bed with a headache  ughhhh...waitin o...</td>\n",
              "    </tr>\n",
              "    <tr>\n",
              "      <th>2</th>\n",
              "      <td>Funeral ceremony...gloomy friday...</td>\n",
              "      <td>3.0</td>\n",
              "      <td>Funeral ceremony...gloomy friday...</td>\n",
              "    </tr>\n",
              "    <tr>\n",
              "      <th>3</th>\n",
              "      <td>wants to hang out with friends SOON!</td>\n",
              "      <td>11.0</td>\n",
              "      <td>wants to hang out with friends SOON!</td>\n",
              "    </tr>\n",
              "    <tr>\n",
              "      <th>4</th>\n",
              "      <td>@dannycastillo We want to trade with someone w...</td>\n",
              "      <td>1.0</td>\n",
              "      <td>dannycastillo We want to trade with someone w...</td>\n",
              "    </tr>\n",
              "    <tr>\n",
              "      <th>5</th>\n",
              "      <td>Re-pinging @ghostridah14: why didn't you go to...</td>\n",
              "      <td>2.0</td>\n",
              "      <td>Re-pinging  ghostridah    why didn t you go to...</td>\n",
              "    </tr>\n",
              "    <tr>\n",
              "      <th>6</th>\n",
              "      <td>I should be sleep, but im not! thinking about ...</td>\n",
              "      <td>3.0</td>\n",
              "      <td>I should be sleep, but im not! thinking about ...</td>\n",
              "    </tr>\n",
              "    <tr>\n",
              "      <th>7</th>\n",
              "      <td>Hmmm. http://www.djhero.com/ is down</td>\n",
              "      <td>2.0</td>\n",
              "      <td>Hmmm. http   www.djhero.com  is down</td>\n",
              "    </tr>\n",
              "    <tr>\n",
              "      <th>8</th>\n",
              "      <td>@charviray Charlene my love. I miss you</td>\n",
              "      <td>3.0</td>\n",
              "      <td>charviray Charlene my love. I miss you</td>\n",
              "    </tr>\n",
              "    <tr>\n",
              "      <th>9</th>\n",
              "      <td>@kelcouch I'm sorry  at least it's Friday?</td>\n",
              "      <td>3.0</td>\n",
              "      <td>kelcouch I m sorry  at least it s Friday?</td>\n",
              "    </tr>\n",
              "  </tbody>\n",
              "</table>\n",
              "</div>"
            ],
            "text/plain": [
              "                                             content  ...                                         clean_text\n",
              "0  @tiffanylue i know  i was listenin to bad habi...  ...   tiffanylue i know  i was listenin to bad habi...\n",
              "1  Layin n bed with a headache  ughhhh...waitin o...  ...  Layin n bed with a headache  ughhhh...waitin o...\n",
              "2                Funeral ceremony...gloomy friday...  ...                Funeral ceremony...gloomy friday...\n",
              "3               wants to hang out with friends SOON!  ...               wants to hang out with friends SOON!\n",
              "4  @dannycastillo We want to trade with someone w...  ...   dannycastillo We want to trade with someone w...\n",
              "5  Re-pinging @ghostridah14: why didn't you go to...  ...  Re-pinging  ghostridah    why didn t you go to...\n",
              "6  I should be sleep, but im not! thinking about ...  ...  I should be sleep, but im not! thinking about ...\n",
              "7               Hmmm. http://www.djhero.com/ is down  ...               Hmmm. http   www.djhero.com  is down\n",
              "8            @charviray Charlene my love. I miss you  ...             charviray Charlene my love. I miss you\n",
              "9         @kelcouch I'm sorry  at least it's Friday?  ...          kelcouch I m sorry  at least it s Friday?\n",
              "\n",
              "[10 rows x 3 columns]"
            ]
          },
          "metadata": {
            "tags": []
          },
          "execution_count": 71
        }
      ]
    }
  ]
}